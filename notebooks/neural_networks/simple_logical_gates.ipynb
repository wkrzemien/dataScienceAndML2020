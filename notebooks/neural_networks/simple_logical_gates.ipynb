{
 "cells": [
  {
   "cell_type": "markdown",
   "metadata": {},
   "source": [
    "This is a \"Neural Network\" toy example which implements the basic logical gates.\n",
    "Here we don't use any method to train the NN model. We just guess correct weight.\n",
    "It is meant to show how in principle NN works."
   ]
  },
  {
   "cell_type": "code",
   "execution_count": 1,
   "metadata": {},
   "outputs": [],
   "source": [
    "import math"
   ]
  },
  {
   "cell_type": "code",
   "execution_count": 2,
   "metadata": {},
   "outputs": [],
   "source": [
    "def sigmoid(x):\n",
    "    return 1./(1+ math.exp(-x))"
   ]
  },
  {
   "cell_type": "code",
   "execution_count": 3,
   "metadata": {},
   "outputs": [],
   "source": [
    "def neuron(inputs, weights):\n",
    "    return sigmoid(sum([x*y for x,y in zip(inputs,weights)]))"
   ]
  },
  {
   "cell_type": "code",
   "execution_count": 4,
   "metadata": {},
   "outputs": [],
   "source": [
    "def almost_equal(x,y,epsilon=0.001):\n",
    "    return abs(x-y) < epsilon"
   ]
  },
  {
   "cell_type": "markdown",
   "metadata": {},
   "source": [
    "### We \"implement\" NN that computes OR operation:\n",
    "\n",
    "| x1| x2| OR|\n",
    "|---|---|---|\n",
    " 0  | 0 |   0\n",
    " 0  | 1 |   1\n",
    " 1  | 0 |   1\n",
    " 1  | 1 |   1 \n",
    " \n",
    "### Input:\n",
    " * x0 = 1  (bias term)\n",
    " * x1,x2 in [0,1]\n",
    " \n",
    "### Weights:\n",
    "We \"guess\" e.g. w0 = -5, w1= 10 and w2= 10 weights."
   ]
  },
  {
   "cell_type": "code",
   "execution_count": 5,
   "metadata": {},
   "outputs": [],
   "source": [
    "def NN_OR(x1,x2):\n",
    "    weights =[-10, 20, 20]\n",
    "    inputs = [1, x1, x2]\n",
    "    return neuron(weights,inputs)"
   ]
  },
  {
   "cell_type": "code",
   "execution_count": 6,
   "metadata": {},
   "outputs": [
    {
     "name": "stdout",
     "output_type": "stream",
     "text": [
      "0.9999546021312976\n"
     ]
    }
   ],
   "source": [
    "print(NN_OR(1,0))"
   ]
  },
  {
   "cell_type": "code",
   "execution_count": 7,
   "metadata": {},
   "outputs": [
    {
     "name": "stdout",
     "output_type": "stream",
     "text": [
      "4.5397868702434395e-05\n"
     ]
    }
   ],
   "source": [
    "print(NN_OR(0,0))"
   ]
  },
  {
   "cell_type": "code",
   "execution_count": 8,
   "metadata": {},
   "outputs": [],
   "source": [
    "assert almost_equal(NN_OR(0,0),0)\n",
    "assert almost_equal(NN_OR(0,1),1)\n",
    "assert almost_equal(NN_OR(1,0),1)\n",
    "assert almost_equal(NN_OR(1,1),1)"
   ]
  },
  {
   "cell_type": "markdown",
   "metadata": {},
   "source": [
    "### Analogically we \"implement\" NN that computes AND operation:\n",
    "\n",
    "| x1| x2| AND|\n",
    "|---|---|---|\n",
    " 0  | 0 |   0\n",
    " 0  | 1 |   0\n",
    " 1  | 0 |   0\n",
    " 1  | 1 |   1 \n",
    " \n",
    "### Input:\n",
    " * x0 = 1  (bias term)\n",
    " * x1,x2 in [0,1]\n",
    " \n",
    "### Weights:\n",
    "We \"guess\" e.g. w0 = -30, w1= 20 and w2 = 20 weights."
   ]
  },
  {
   "cell_type": "code",
   "execution_count": 9,
   "metadata": {},
   "outputs": [],
   "source": [
    "def NN_AND(x1,x2):\n",
    "    weights =[-30, 20, 20]\n",
    "    inputs = [1, x1, x2]\n",
    "    return neuron(weights,inputs)"
   ]
  },
  {
   "cell_type": "code",
   "execution_count": 10,
   "metadata": {},
   "outputs": [
    {
     "name": "stdout",
     "output_type": "stream",
     "text": [
      "4.5397868702434395e-05\n"
     ]
    }
   ],
   "source": [
    "print(NN_AND(1,0))"
   ]
  },
  {
   "cell_type": "code",
   "execution_count": 11,
   "metadata": {},
   "outputs": [
    {
     "name": "stdout",
     "output_type": "stream",
     "text": [
      "0.9999546021312976\n"
     ]
    }
   ],
   "source": [
    "print(NN_AND(1,1))"
   ]
  },
  {
   "cell_type": "code",
   "execution_count": 12,
   "metadata": {},
   "outputs": [],
   "source": [
    "assert almost_equal(NN_AND(0,0),0)\n",
    "assert almost_equal(NN_AND(0,1),0)\n",
    "assert almost_equal(NN_AND(1,0),0)\n",
    "assert almost_equal(NN_AND(1,1),1)"
   ]
  },
  {
   "cell_type": "markdown",
   "metadata": {},
   "source": [
    "### Analogically we \"implement\" NN that computes NOT operation:\n",
    "\n",
    "| x | NOT|\n",
    "|---|--- |\n",
    "| 0 |  1\n",
    "| 1 |  0\n",
    " \n",
    " \n",
    "### Input:\n",
    "* x0 = 1 (bias term)\n",
    "* x in [0,1]\n",
    " \n",
    "### Weights:\n",
    "We \"guess w0=20 and w1 =-30"
   ]
  },
  {
   "cell_type": "code",
   "execution_count": 13,
   "metadata": {},
   "outputs": [],
   "source": [
    "def NN_NOT(x):\n",
    "    weights =[20, -30]\n",
    "    inputs = [1, x]\n",
    "    return neuron(weights,inputs)"
   ]
  },
  {
   "cell_type": "code",
   "execution_count": 14,
   "metadata": {},
   "outputs": [
    {
     "name": "stdout",
     "output_type": "stream",
     "text": [
      "4.5397868702434395e-05\n"
     ]
    }
   ],
   "source": [
    "print(NN_NOT(1))"
   ]
  },
  {
   "cell_type": "code",
   "execution_count": 15,
   "metadata": {},
   "outputs": [
    {
     "name": "stdout",
     "output_type": "stream",
     "text": [
      "0.9999999979388463\n"
     ]
    }
   ],
   "source": [
    "print(NN_NOT(0))"
   ]
  },
  {
   "cell_type": "code",
   "execution_count": 16,
   "metadata": {},
   "outputs": [],
   "source": [
    "assert almost_equal(NN_NOT(1),0)\n",
    "assert almost_equal(NN_NOT(0),1)"
   ]
  },
  {
   "cell_type": "markdown",
   "metadata": {},
   "source": [
    "### XOR operation\n",
    "\n",
    "| x1| x2| XOR|\n",
    "|---|---|---|\n",
    " 0  | 0 |   0\n",
    " 0  | 1 |   1\n",
    " 1  | 0 |   1\n",
    " 1  | 1 |   0 \n",
    "\n",
    "It's known that we cannot express XOR with one layer.\n",
    "\n",
    "XOR is equivalent to (x1 OR x2) AND NOT(x1 AND x2) \n",
    "\n",
    "\n",
    "### Input:\n",
    " * x0 = 1  (bias term)\n",
    " * x1,x2 in [0,1]\n",
    " \n",
    "\n",
    "We will use combination of already existing GATES"
   ]
  },
  {
   "cell_type": "code",
   "execution_count": 17,
   "metadata": {},
   "outputs": [],
   "source": [
    "def NN_XOR(x1,x2):\n",
    "    first = NN_OR(x1,x2)\n",
    "    second = NN_AND(x1,x2)\n",
    "    return NN_AND(first, NN_NOT(second))"
   ]
  },
  {
   "cell_type": "code",
   "execution_count": 18,
   "metadata": {},
   "outputs": [
    {
     "name": "stdout",
     "output_type": "stream",
     "text": [
      "0.9999545608932477\n"
     ]
    }
   ],
   "source": [
    "print(NN_XOR(1,0))"
   ]
  },
  {
   "cell_type": "code",
   "execution_count": 19,
   "metadata": {},
   "outputs": [
    {
     "name": "stdout",
     "output_type": "stream",
     "text": [
      "4.5439103003576354e-05\n"
     ]
    }
   ],
   "source": [
    "print(NN_XOR(0,0))"
   ]
  },
  {
   "cell_type": "code",
   "execution_count": 20,
   "metadata": {},
   "outputs": [
    {
     "name": "stdout",
     "output_type": "stream",
     "text": [
      "4.543916109883336e-05\n"
     ]
    }
   ],
   "source": [
    "print(NN_XOR(1,1))"
   ]
  },
  {
   "cell_type": "code",
   "execution_count": 21,
   "metadata": {},
   "outputs": [],
   "source": [
    "assert almost_equal(NN_XOR(0,0),0)\n",
    "assert almost_equal(NN_XOR(0,1),1)\n",
    "assert almost_equal(NN_XOR(1,0),1)\n",
    "assert almost_equal(NN_XOR(1,1),0)"
   ]
  }
 ],
 "metadata": {
  "kernelspec": {
   "display_name": "Python 3",
   "language": "python",
   "name": "python3"
  },
  "language_info": {
   "codemirror_mode": {
    "name": "ipython",
    "version": 3
   },
   "file_extension": ".py",
   "mimetype": "text/x-python",
   "name": "python",
   "nbconvert_exporter": "python",
   "pygments_lexer": "ipython3",
   "version": "3.5.2"
  }
 },
 "nbformat": 4,
 "nbformat_minor": 2
}
